{
  "nbformat": 4,
  "nbformat_minor": 0,
  "metadata": {
    "colab": {
      "provenance": [],
      "authorship_tag": "ABX9TyM5mklBlC5HqYo8SFELEIRO",
      "include_colab_link": true
    },
    "kernelspec": {
      "name": "python3",
      "display_name": "Python 3"
    },
    "language_info": {
      "name": "python"
    }
  },
  "cells": [
    {
      "cell_type": "markdown",
      "metadata": {
        "id": "view-in-github",
        "colab_type": "text"
      },
      "source": [
        "<a href=\"https://colab.research.google.com/github/Adnan5603/brainybeam-task/blob/main/task5.ipynb\" target=\"_parent\"><img src=\"https://colab.research.google.com/assets/colab-badge.svg\" alt=\"Open In Colab\"/></a>"
      ]
    },
    {
      "cell_type": "markdown",
      "source": [
        "Create a pandas DataFrame from a JSON object with nested structures.\n"
      ],
      "metadata": {
        "id": "XXtecZPF1YG4"
      }
    },
    {
      "cell_type": "code",
      "execution_count": 1,
      "metadata": {
        "id": "Lcci801B1BsO"
      },
      "outputs": [],
      "source": [
        "import pandas as pd\n",
        "import json"
      ]
    },
    {
      "cell_type": "code",
      "source": [
        "data = {\n",
        "    \"employees\": [\n",
        "        {\n",
        "            \"id\": 1,\n",
        "            \"name\": {\"first\": \"John\", \"last\": \"Doe\"},\n",
        "            \"department\": \"HR\",\n",
        "            \"skills\": [\"communication\", \"recruitment\"],\n",
        "            \"address\": {\"city\": \"New York\", \"zip\": \"10001\"}\n",
        "        },\n",
        "        {\n",
        "            \"id\": 2,\n",
        "            \"name\": {\"first\": \"Jane\", \"last\": \"Smith\"},\n",
        "            \"department\": \"IT\",\n",
        "            \"skills\": [\"python\", \"machine learning\"],\n",
        "            \"address\": {\"city\": \"San Francisco\", \"zip\": \"94105\"}\n",
        "        }\n",
        "    ]\n",
        "}"
      ],
      "metadata": {
        "id": "6TCXrShj1ghy"
      },
      "execution_count": 2,
      "outputs": []
    },
    {
      "cell_type": "code",
      "source": [
        "json_str = json.dumps(data)"
      ],
      "metadata": {
        "id": "egSzNVHY1iHG"
      },
      "execution_count": 3,
      "outputs": []
    },
    {
      "cell_type": "code",
      "source": [
        "json_obj = json.loads(json_str)"
      ],
      "metadata": {
        "id": "IjNIwL-w1m-a"
      },
      "execution_count": 4,
      "outputs": []
    },
    {
      "cell_type": "code",
      "source": [
        "df = pd.json_normalize(\n",
        "    json_obj[\"employees\"],\n",
        "    sep=\"_\"\n",
        ")\n",
        "\n",
        "print(\"Flattened DataFrame:\\n\")\n",
        "print(df)"
      ],
      "metadata": {
        "colab": {
          "base_uri": "https://localhost:8080/"
        },
        "id": "p5fUxE2U1oCt",
        "outputId": "fd3ed285-5337-4fcd-c37c-8aa0586ada30"
      },
      "execution_count": 5,
      "outputs": [
        {
          "output_type": "stream",
          "name": "stdout",
          "text": [
            "Flattened DataFrame:\n",
            "\n",
            "   id department                        skills name_first name_last  \\\n",
            "0   1         HR  [communication, recruitment]       John       Doe   \n",
            "1   2         IT    [python, machine learning]       Jane     Smith   \n",
            "\n",
            "    address_city address_zip  \n",
            "0       New York       10001  \n",
            "1  San Francisco       94105  \n"
          ]
        }
      ]
    }
  ]
}