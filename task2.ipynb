{
  "nbformat": 4,
  "nbformat_minor": 0,
  "metadata": {
    "colab": {
      "provenance": [],
      "authorship_tag": "ABX9TyMYEiMDL3prWu7e0pHFJsh6",
      "include_colab_link": true
    },
    "kernelspec": {
      "name": "python3",
      "display_name": "Python 3"
    },
    "language_info": {
      "name": "python"
    }
  },
  "cells": [
    {
      "cell_type": "markdown",
      "metadata": {
        "id": "view-in-github",
        "colab_type": "text"
      },
      "source": [
        "<a href=\"https://colab.research.google.com/github/Adnan5603/brainybeam-task/blob/main/task2.ipynb\" target=\"_parent\"><img src=\"https://colab.research.google.com/assets/colab-badge.svg\" alt=\"Open In Colab\"/></a>"
      ]
    },
    {
      "cell_type": "markdown",
      "source": [
        "Handle hierarchical indexing in a pandas"
      ],
      "metadata": {
        "id": "nZmpEwODr8rb"
      }
    },
    {
      "cell_type": "code",
      "execution_count": 1,
      "metadata": {
        "id": "0-pLbm0rr1Jv"
      },
      "outputs": [],
      "source": [
        "import pandas as pd"
      ]
    },
    {
      "cell_type": "code",
      "source": [
        "df = pd.read_csv(\"/tested.csv\")"
      ],
      "metadata": {
        "id": "6PQMHaFxuzOO"
      },
      "execution_count": 2,
      "outputs": []
    },
    {
      "cell_type": "code",
      "source": [
        "print(df.head())"
      ],
      "metadata": {
        "colab": {
          "base_uri": "https://localhost:8080/"
        },
        "id": "LhZrlAuju4hQ",
        "outputId": "e0b0001a-ac9a-4ec3-d727-b57b5104c09e"
      },
      "execution_count": 3,
      "outputs": [
        {
          "output_type": "stream",
          "name": "stdout",
          "text": [
            "   PassengerId  Survived  Pclass  \\\n",
            "0          892         0       3   \n",
            "1          893         1       3   \n",
            "2          894         0       2   \n",
            "3          895         0       3   \n",
            "4          896         1       3   \n",
            "\n",
            "                                           Name     Sex   Age  SibSp  Parch  \\\n",
            "0                              Kelly, Mr. James    male  34.5      0      0   \n",
            "1              Wilkes, Mrs. James (Ellen Needs)  female  47.0      1      0   \n",
            "2                     Myles, Mr. Thomas Francis    male  62.0      0      0   \n",
            "3                              Wirz, Mr. Albert    male  27.0      0      0   \n",
            "4  Hirvonen, Mrs. Alexander (Helga E Lindqvist)  female  22.0      1      1   \n",
            "\n",
            "    Ticket     Fare Cabin Embarked  \n",
            "0   330911   7.8292   NaN        Q  \n",
            "1   363272   7.0000   NaN        S  \n",
            "2   240276   9.6875   NaN        Q  \n",
            "3   315154   8.6625   NaN        S  \n",
            "4  3101298  12.2875   NaN        S  \n"
          ]
        }
      ]
    },
    {
      "cell_type": "code",
      "source": [
        "df_multi = df.set_index(['Pclass', 'Sex'])"
      ],
      "metadata": {
        "id": "y07XQCNru_PL"
      },
      "execution_count": 4,
      "outputs": []
    },
    {
      "cell_type": "code",
      "source": [
        "print(\"\\nHierarchical indexed DataFrame:\")\n"
      ],
      "metadata": {
        "colab": {
          "base_uri": "https://localhost:8080/"
        },
        "id": "AuuRnca2u_Dg",
        "outputId": "ae1cbc75-b3a9-49da-949f-3fb61f2d7603"
      },
      "execution_count": 5,
      "outputs": [
        {
          "output_type": "stream",
          "name": "stdout",
          "text": [
            "\n",
            "Hierarchical indexed DataFrame:\n"
          ]
        }
      ]
    },
    {
      "cell_type": "code",
      "source": [
        "print(df_multi.head())"
      ],
      "metadata": {
        "colab": {
          "base_uri": "https://localhost:8080/"
        },
        "id": "X6vnCkkfvGWL",
        "outputId": "44f7d4e0-8df9-4d27-afeb-098a736d7631"
      },
      "execution_count": 6,
      "outputs": [
        {
          "output_type": "stream",
          "name": "stdout",
          "text": [
            "               PassengerId  Survived  \\\n",
            "Pclass Sex                             \n",
            "3      male            892         0   \n",
            "       female          893         1   \n",
            "2      male            894         0   \n",
            "3      male            895         0   \n",
            "       female          896         1   \n",
            "\n",
            "                                                       Name   Age  SibSp  \\\n",
            "Pclass Sex                                                                 \n",
            "3      male                                Kelly, Mr. James  34.5      0   \n",
            "       female              Wilkes, Mrs. James (Ellen Needs)  47.0      1   \n",
            "2      male                       Myles, Mr. Thomas Francis  62.0      0   \n",
            "3      male                                Wirz, Mr. Albert  27.0      0   \n",
            "       female  Hirvonen, Mrs. Alexander (Helga E Lindqvist)  22.0      1   \n",
            "\n",
            "               Parch   Ticket     Fare Cabin Embarked  \n",
            "Pclass Sex                                             \n",
            "3      male        0   330911   7.8292   NaN        Q  \n",
            "       female      0   363272   7.0000   NaN        S  \n",
            "2      male        0   240276   9.6875   NaN        Q  \n",
            "3      male        0   315154   8.6625   NaN        S  \n",
            "       female      1  3101298  12.2875   NaN        S  \n"
          ]
        }
      ]
    },
    {
      "cell_type": "code",
      "source": [
        "print(\"\\nFilter by MultiIndex (Pclass=1, Sex=male):\")\n",
        "print(df_multi.loc[(1, 'male')].head())"
      ],
      "metadata": {
        "colab": {
          "base_uri": "https://localhost:8080/"
        },
        "id": "WVWMDcRnvKu5",
        "outputId": "4c98f87d-3f00-4c4c-e069-16b4d9867b8f"
      },
      "execution_count": 7,
      "outputs": [
        {
          "output_type": "stream",
          "name": "stdout",
          "text": [
            "\n",
            "Filter by MultiIndex (Pclass=1, Sex=male):\n",
            "             PassengerId  Survived                             Name   Age  \\\n",
            "Pclass Sex                                                                  \n",
            "1      male          903         0       Jones, Mr. Charles Cresson  46.0   \n",
            "       male          912         0           Rothschild, Mr. Martin  55.0   \n",
            "       male          915         0  Williams, Mr. Richard Norris II  21.0   \n",
            "       male          920         0          Brady, Mr. John Bertram  41.0   \n",
            "       male          926         0         Mock, Mr. Philipp Edmund  30.0   \n",
            "\n",
            "             SibSp  Parch    Ticket     Fare Cabin Embarked  \n",
            "Pclass Sex                                                   \n",
            "1      male      0      0       694  26.0000   NaN        S  \n",
            "       male      1      0  PC 17603  59.4000   NaN        C  \n",
            "       male      0      1  PC 17597  61.3792   NaN        C  \n",
            "       male      0      0    113054  30.5000   A21        S  \n",
            "       male      1      0     13236  57.7500   C78        C  \n"
          ]
        },
        {
          "output_type": "stream",
          "name": "stderr",
          "text": [
            "/tmp/ipython-input-1092932169.py:2: PerformanceWarning: indexing past lexsort depth may impact performance.\n",
            "  print(df_multi.loc[(1, 'male')].head())\n"
          ]
        }
      ]
    },
    {
      "cell_type": "code",
      "source": [
        "print(\"\\nAll rows with Pclass=3:\")\n",
        "print(df_multi.xs(3, level='Pclass').head())"
      ],
      "metadata": {
        "colab": {
          "base_uri": "https://localhost:8080/"
        },
        "id": "UOhZYrPkvM1S",
        "outputId": "f01063aa-00a9-4105-e5c6-4cd85722574e"
      },
      "execution_count": 8,
      "outputs": [
        {
          "output_type": "stream",
          "name": "stdout",
          "text": [
            "\n",
            "All rows with Pclass=3:\n",
            "        PassengerId  Survived                                          Name  \\\n",
            "Sex                                                                           \n",
            "male            892         0                              Kelly, Mr. James   \n",
            "female          893         1              Wilkes, Mrs. James (Ellen Needs)   \n",
            "male            895         0                              Wirz, Mr. Albert   \n",
            "female          896         1  Hirvonen, Mrs. Alexander (Helga E Lindqvist)   \n",
            "male            897         0                    Svensson, Mr. Johan Cervin   \n",
            "\n",
            "         Age  SibSp  Parch   Ticket     Fare Cabin Embarked  \n",
            "Sex                                                          \n",
            "male    34.5      0      0   330911   7.8292   NaN        Q  \n",
            "female  47.0      1      0   363272   7.0000   NaN        S  \n",
            "male    27.0      0      0   315154   8.6625   NaN        S  \n",
            "female  22.0      1      1  3101298  12.2875   NaN        S  \n",
            "male    14.0      0      0     7538   9.2250   NaN        S  \n"
          ]
        }
      ]
    },
    {
      "cell_type": "code",
      "source": [
        "print(\"\\nAll rows with Sex=female:\")\n",
        "print(df_multi.xs('female', level='Sex').head())"
      ],
      "metadata": {
        "colab": {
          "base_uri": "https://localhost:8080/"
        },
        "id": "9N1hLV3svROA",
        "outputId": "f61cadc9-77ca-40e0-ad2d-7136e071eedc"
      },
      "execution_count": 9,
      "outputs": [
        {
          "output_type": "stream",
          "name": "stdout",
          "text": [
            "\n",
            "All rows with Sex=female:\n",
            "        PassengerId  Survived                                           Name  \\\n",
            "Pclass                                                                         \n",
            "3               893         1               Wilkes, Mrs. James (Ellen Needs)   \n",
            "3               896         1   Hirvonen, Mrs. Alexander (Helga E Lindqvist)   \n",
            "3               898         1                           Connolly, Miss. Kate   \n",
            "3               900         1      Abrahim, Mrs. Joseph (Sophie Halaut Easu)   \n",
            "1               904         1  Snyder, Mrs. John Pillsbury (Nelle Stevenson)   \n",
            "\n",
            "         Age  SibSp  Parch   Ticket     Fare Cabin Embarked  \n",
            "Pclass                                                       \n",
            "3       47.0      1      0   363272   7.0000   NaN        S  \n",
            "3       22.0      1      1  3101298  12.2875   NaN        S  \n",
            "3       30.0      0      0   330972   7.6292   NaN        Q  \n",
            "3       18.0      0      0     2657   7.2292   NaN        C  \n",
            "1       23.0      1      0    21228  82.2667   B45        S  \n"
          ]
        }
      ]
    },
    {
      "cell_type": "code",
      "source": [
        "df_reset = df_multi.reset_index()\n",
        "print(\"\\nReset index back to columns:\")\n",
        "print(df_reset.head())"
      ],
      "metadata": {
        "colab": {
          "base_uri": "https://localhost:8080/"
        },
        "id": "Wd8FAdRrvUYY",
        "outputId": "933e0c45-7b45-4495-bf0d-e44558b4d72d"
      },
      "execution_count": 11,
      "outputs": [
        {
          "output_type": "stream",
          "name": "stdout",
          "text": [
            "\n",
            "Reset index back to columns:\n",
            "   Pclass     Sex  PassengerId  Survived  \\\n",
            "0       3    male          892         0   \n",
            "1       3  female          893         1   \n",
            "2       2    male          894         0   \n",
            "3       3    male          895         0   \n",
            "4       3  female          896         1   \n",
            "\n",
            "                                           Name   Age  SibSp  Parch   Ticket  \\\n",
            "0                              Kelly, Mr. James  34.5      0      0   330911   \n",
            "1              Wilkes, Mrs. James (Ellen Needs)  47.0      1      0   363272   \n",
            "2                     Myles, Mr. Thomas Francis  62.0      0      0   240276   \n",
            "3                              Wirz, Mr. Albert  27.0      0      0   315154   \n",
            "4  Hirvonen, Mrs. Alexander (Helga E Lindqvist)  22.0      1      1  3101298   \n",
            "\n",
            "      Fare Cabin Embarked  \n",
            "0   7.8292   NaN        Q  \n",
            "1   7.0000   NaN        S  \n",
            "2   9.6875   NaN        Q  \n",
            "3   8.6625   NaN        S  \n",
            "4  12.2875   NaN        S  \n"
          ]
        }
      ]
    }
  ]
}